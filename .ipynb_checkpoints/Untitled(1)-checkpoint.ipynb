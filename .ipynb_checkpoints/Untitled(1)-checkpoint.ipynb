{
 "cells": [
  {
   "cell_type": "code",
   "execution_count": 1,
   "metadata": {},
   "outputs": [
    {
     "data": {
      "text/plain": [
       "'/Users/Evansmudibo/Documents/Programming/Mini_project/python-mini-project-mudiboevans/attachments'"
      ]
     },
     "execution_count": 1,
     "metadata": {},
     "output_type": "execute_result"
    }
   ],
   "source": [
    "pwd"
   ]
  },
  {
   "cell_type": "code",
   "execution_count": 3,
   "metadata": {},
   "outputs": [
    {
     "name": "stdout",
     "output_type": "stream",
     "text": [
      "/Users/Evansmudibo/Documents/Programming\n"
     ]
    }
   ],
   "source": [
    "cd ../../.."
   ]
  },
  {
   "cell_type": "code",
   "execution_count": 4,
   "metadata": {},
   "outputs": [
    {
     "name": "stdout",
     "output_type": "stream",
     "text": [
      "Feedback_miniproject.docx  \u001b[1m\u001b[34mMini_project\u001b[m\u001b[m/\n",
      "File_1.txt                 \u001b[1m\u001b[34mPython4Bioinformatics2019\u001b[m\u001b[m/\n",
      "File_2.txt                 \u001b[1m\u001b[34mScripts\u001b[m\u001b[m/\n",
      "File_3.txt                 \u001b[1m\u001b[34mmin_proj_cohort1\u001b[m\u001b[m/\n"
     ]
    }
   ],
   "source": [
    "ls"
   ]
  },
  {
   "cell_type": "code",
   "execution_count": 6,
   "metadata": {},
   "outputs": [
    {
     "name": "stdout",
     "output_type": "stream",
     "text": [
      "AB123\n",
      "AB124\n",
      "AB125\n",
      "AB126\n"
     ]
    }
   ],
   "source": [
    "with open(\"./File_1.txt\", \"r\") as file1:\n",
    "    my_file1=file1.read()\n",
    "    print(my_file1)"
   ]
  },
  {
   "cell_type": "code",
   "execution_count": 42,
   "metadata": {},
   "outputs": [],
   "source": [
    "with open(\"./File_1.txt\", \"r\") as my_file1,\\\n",
    "    open(\"./File_2.txt\", \"r\")  as my_file2,\\\n",
    "    open(\"./File_3.txt\", \"r\") as my_file3,\\\n",
    "    open(\"./combined.txt\",\"w\") as my_dup:\n",
    "    for i in my_file3:\n",
    "        my_dup.write(i+\"\\n\") \n",
    "    for a in my_file2:\n",
    "        my_dup.write(a+\"\\n\")\n",
    "    for b in my_file1:\n",
    "        my_dup.write(b+\"\\n\")"
   ]
  },
  {
   "cell_type": "code",
   "execution_count": 47,
   "metadata": {},
   "outputs": [
    {
     "name": "stdout",
     "output_type": "stream",
     "text": [
      "AB123\n",
      "\n",
      "AB124\n",
      "\n",
      "AB141\n",
      "\n",
      "AB142\n",
      "\n",
      "AB143\n",
      "\n",
      "AB144\n",
      "\n",
      "AB145\n",
      "AB127\n",
      "\n",
      "AB123\n",
      "\n",
      "AB128\n",
      "\n",
      "AB129\n",
      "\n",
      "AB130\n",
      "\n",
      "AB131\n",
      "AB123\n",
      "\n",
      "AB124\n",
      "\n",
      "AB125\n",
      "\n",
      "AB126\n"
     ]
    }
   ],
   "source": [
    "with open(\"combined.txt\", \"r\") as dups:\n",
    "    for i in dups:\n",
    "        print (i.strip())"
   ]
  },
  {
   "cell_type": "code",
   "execution_count": 49,
   "metadata": {},
   "outputs": [],
   "source": [
    "with open(\"combined.txt\", \"r\") as file,\\ # open a file\n",
    "    open(\"dups.txt\",\"w\") as my_duplic:\n",
    "    for line in file:\n",
    "        if not line.isspace(): # remove the blank lines\n",
    "            my_duplic.write(line) # write into a file "
   ]
  },
  {
   "cell_type": "code",
   "execution_count": 51,
   "metadata": {},
   "outputs": [
    {
     "name": "stdout",
     "output_type": "stream",
     "text": [
      "AB123\n",
      "AB124\n",
      "AB141\n",
      "AB142\n",
      "AB143\n",
      "AB144\n",
      "AB145\n",
      "AB127\n",
      "AB123\n",
      "AB128\n",
      "AB129\n",
      "AB130\n",
      "AB131\n",
      "AB123\n",
      "AB124\n",
      "AB125\n",
      "AB126\n",
      "\n"
     ]
    }
   ],
   "source": [
    "with open(\"combined.txt\", \"r\") as f:\n",
    "    print(\"\".join(line for line in f if not line.isspace())) ## remove blank space"
   ]
  },
  {
   "cell_type": "code",
   "execution_count": null,
   "metadata": {},
   "outputs": [],
   "source": []
  }
 ],
 "metadata": {
  "kernelspec": {
   "display_name": "Python 3",
   "language": "python",
   "name": "python3"
  },
  "language_info": {
   "codemirror_mode": {
    "name": "ipython",
    "version": 3
   },
   "file_extension": ".py",
   "mimetype": "text/x-python",
   "name": "python",
   "nbconvert_exporter": "python",
   "pygments_lexer": "ipython3",
   "version": "3.7.4"
  }
 },
 "nbformat": 4,
 "nbformat_minor": 4
}
