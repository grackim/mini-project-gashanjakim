{
 "cells": [
  {
   "cell_type": "markdown",
   "metadata": {},
   "source": [
    "MENU Display ##"
   ]
  },
  {
   "cell_type": "code",
   "execution_count": 3,
   "metadata": {},
   "outputs": [
    {
     "name": "stdout",
     "output_type": "stream",
     "text": [
      "********************************************************************************\n",
      "\u001b[1;47m* PDB FILE ANALYZER  \u001b[1;m                                                          *\n",
      "********************************************************************************\n",
      "*\u001b[1;30m Select an option from below:\u001b[1;m                                                 *\n",
      "\u001b[1;30m*  \u001b[1;m                                                                            *\n",
      "\u001b[1;30m*     1) \u001b[1;m Open a PDB File                          (O)                         *\n",
      "\u001b[1;30m*     2) \u001b[1;m Information                              (I)                         *\n",
      "\u001b[1;30m*     3) \u001b[1;m Show histogram of amino acids            (H)                         *\n",
      "\u001b[1;30m*     4) \u001b[1;m Display Secondary Structure              (S)                         *\n",
      "\u001b[1;30m*     5) \u001b[1;m Export PDB File                          (X)                         *\n",
      "\u001b[1;30m*     6) \u001b[1;m Exit                                     (Q)                         *\n",
      "\u001b[1;30m*  \u001b[1;m                                                                            *\n",
      "*                                                           Current PDB:\u001b[1;31m None \u001b[1;m *\n",
      "********************************************************************************\n",
      ":\n"
     ]
    }
   ],
   "source": [
    "def menu_display():\n",
    "    \"\"\"Displays main menu of the programme\"\"\"\n",
    "    x1 = '*' \n",
    "    x2 = '*' + \" \"\n",
    "    space = ' '\n",
    "    print(x1 * 80)\n",
    "    print('\\033[1;47m* PDB FILE ANALYZER  \\033[1;m{0:58s}*'.format(\"\"))\n",
    "    print(x1 * 80)\n",
    "    print('*\\033[1;30m Select an option from below:\\033[1;m{0:49s}*'.format(\"\"))\n",
    "    print('\\033[1;30m*  \\033[1;m{0:76s}*'.format(\"\"))\n",
    "    print('\\033[1;30m*     1) \\033[1;m Open a PDB File{0:26s}(O){0:25s}*'.format(\"\"))\n",
    "    print('\\033[1;30m*     2) \\033[1;m Information{0:29s} (I){0:25s}*'.format(\"\"))\n",
    "    print('\\033[1;30m*     3) \\033[1;m Show histogram of amino acids{0:11s} (H){0:25s}*'.format(\"\"))\n",
    "    print('\\033[1;30m*     4) \\033[1;m Display Secondary Structure{0:13s} (S){0:25s}*'.format(\"\"))\n",
    "    print('\\033[1;30m*     5) \\033[1;m Export PDB File{0:25s} (X){0:25s}*'.format(\"\"))\n",
    "    print('\\033[1;30m*     6) \\033[1;m Exit{0:36s} (Q){0:25s}*'.format(\"\"))\n",
    "    print('\\033[1;30m*  \\033[1;m{0:76s}*'.format(\"\"))\n",
    "    print('*{0:59s}Current PDB:\\033[1;31m None \\033[1;m *'.format(\"\"))\n",
    "    print(x1 * 80)\n",
    "    print(':')\n",
    "    \n",
    "menu_display()  "
   ]
  },
  {
   "cell_type": "code",
   "execution_count": 4,
   "metadata": {},
   "outputs": [],
   "source": [
    "def menu_display1(filename):\n",
    "    \"\"\"Displays the menu once the file is loaded, printing the loaded file\"\"\"\n",
    "    file = filename\n",
    "    x1 = '*' \n",
    "    x2 = '*' + \" \"\n",
    "    print(x1 * 80)\n",
    "    print('\\033[1;44m* PDB FILE ANALYZER  \\033[1;m{0:58s}*'.format(\"\"))\n",
    "    print(x1 * 80)\n",
    "    print('*\\033[1;34m Select an option from below:\\033[1;m{0:49s}*'.format(\"\"))\n",
    "    print('\\033[1;30m*  \\033[1;m{0:76s}*'.format(\"\"))\n",
    "    print('\\033[1;30m*     1) \\033[1;m Open a PDB File{0:26s}(O){0:25s}*'.format(\"\"))\n",
    "    print('\\033[1;30m*     2) \\033[1;m Information{0:29s} (I){0:25s}*'.format(\"\"))\n",
    "    print('\\033[1;30m*     3) \\033[1;m Show histogram of amino acids{0:11s} (H){0:25s}*'.format(\"\"))\n",
    "    print('\\033[1;30m*     4) \\033[1;m Display Secondary Structure{0:13s} (S){0:25s}*'.format(\"\"))\n",
    "    print('\\033[1;30m*     5) \\033[1;m Export PDB File{0:25s} (X){0:25s}*'.format(\"\"))\n",
    "    print('\\033[1;30m*     6) \\033[1;m Exit{0:36s} (Q){0:25s}*'.format(\"\"))\n",
    "    print('\\033[1;30m*  \\033[1;m{0:76s}*'.format(\"\"))\n",
    "    print('* {0:54s}Current PDB:\\033[1;31m %s \\033[1;m *'.format(\"\")%file)\n",
    "    print(x1 * 80)\n",
    "    print(':\\033[1;31m O\\033[1;m')\n"
   ]
  },
  {
   "cell_type": "code",
   "execution_count": 5,
   "metadata": {},
   "outputs": [
    {
     "name": "stdout",
     "output_type": "stream",
     "text": [
      "********************************************************************************\n",
      "\u001b[1;44m* PDB FILE ANALYZER  \u001b[1;m                                                          *\n",
      "********************************************************************************\n",
      "*\u001b[1;34m Select an option from below:\u001b[1;m                                                 *\n",
      "\u001b[1;30m*  \u001b[1;m                                                                            *\n",
      "\u001b[1;30m*     1) \u001b[1;m Open a PDB File                          (O)                         *\n",
      "\u001b[1;30m*     2) \u001b[1;m Information                              (I)                         *\n",
      "\u001b[1;30m*     3) \u001b[1;m Show histogram of amino acids            (H)                         *\n",
      "\u001b[1;30m*     4) \u001b[1;m Display Secondary Structure              (S)                         *\n",
      "\u001b[1;30m*     5) \u001b[1;m Export PDB File                          (X)                         *\n",
      "\u001b[1;30m*     6) \u001b[1;m Exit                                     (Q)                         *\n",
      "\u001b[1;30m*  \u001b[1;m                                                                            *\n",
      "*                                                       Current PDB:\u001b[1;31m john.txt \u001b[1;m *\n",
      "********************************************************************************\n",
      ":\u001b[1;31m O\u001b[1;m\n"
     ]
    }
   ],
   "source": [
    "menu_display1(currentFile)"
   ]
  },
  {
   "cell_type": "markdown",
   "metadata": {},
   "source": [
    "Open PDB file function"
   ]
  },
  {
   "cell_type": "code",
   "execution_count": 21,
   "metadata": {},
   "outputs": [
    {
     "name": "stdin",
     "output_type": "stream",
     "text": [
      "enter path: /Users/johnoketch/Python_lessons/PythonMiniProject-Johnymcb/untitledext3.txt\n"
     ]
    },
    {
     "name": "stdout",
     "output_type": "stream",
     "text": [
      "file successfuly loaded\n",
      "untitledext3.txt\n",
      "File error not a PDB file\n"
     ]
    }
   ],
   "source": [
    "from pathlib import Path ##To be the main function\n",
    "#filename = Path('/Users/johnoketch/Python_lessons/PythonMiniProject-Johnymcb/1zni.pdb')\n",
    "filename = Path(input('enter path:'))\n",
    "\n",
    "load1 = ''\n",
    "#print(load1)\n",
    "#print(currentFile)\n",
    "#print(filename.suffix)\n",
    "#print(filename.stem)\n",
    "if  filename.exists():\n",
    "    print('file successfuly loaded')\n",
    "    currentFile = filename.name\n",
    "    valid_file(currentFile)\n",
    "    #currentFile = valid_file2(currentFile)\n",
    "    #menu_update(currentFile)\n",
    "else:\n",
    "    print('Enter a Valid Path for a PDB file: %s'%filename.name)\n",
    "    "
   ]
  },
  {
   "cell_type": "code",
   "execution_count": 29,
   "metadata": {},
   "outputs": [
    {
     "name": "stdout",
     "output_type": "stream",
     "text": [
      "1zni.pdb\n"
     ]
    }
   ],
   "source": [
    "path='/Users/johnoketch/Python_lessons/PythonMiniProject-Johnymcb/1zni.pdb'\n",
    "b=path.split('/')\n",
    "fileName=b[-1]\n",
    "print(fileName)"
   ]
  },
  {
   "cell_type": "code",
   "execution_count": 15,
   "metadata": {},
   "outputs": [
    {
     "name": "stdout",
     "output_type": "stream",
     "text": [
      "HEADER                  Mandatory\n",
      "\n"
     ]
    }
   ],
   "source": [
    "with open('/Users/johnoketch/Python_lessons/PythonMiniProject-Johnymcb/untitledext3.txt', 'r') as myfile:\n",
    "    line1 = myfile.readline()\n",
    "    print(line1)"
   ]
  },
  {
   "cell_type": "code",
   "execution_count": 1,
   "metadata": {},
   "outputs": [],
   "source": [
    "import os"
   ]
  },
  {
   "cell_type": "code",
   "execution_count": 2,
   "metadata": {},
   "outputs": [
    {
     "data": {
      "text/plain": [
       "'/Users/johnoketch/Python_lessons/PythonMiniProject-Johnymcb'"
      ]
     },
     "execution_count": 2,
     "metadata": {},
     "output_type": "execute_result"
    }
   ],
   "source": [
    "os.getcwd()"
   ]
  },
  {
   "cell_type": "markdown",
   "metadata": {},
   "source": [
    "LINECOUNT FUNCTION1##"
   ]
  },
  {
   "cell_type": "code",
   "execution_count": 20,
   "metadata": {},
   "outputs": [],
   "source": [
    "def linecount(line):\n",
    "    space  = 0\n",
    "    character = 0\n",
    "    column = 0\n",
    "    for i in line:\n",
    "        if i == ' ':\n",
    "            column += 1\n",
    "        elif i == '\\n':\n",
    "            space += 1\n",
    "        else:\n",
    "            character += 1\n",
    "    return (column + space + character)\n"
   ]
  },
  {
   "cell_type": "markdown",
   "metadata": {},
   "source": [
    "FUCTION2 ####"
   ]
  },
  {
   "cell_type": "code",
   "execution_count": 16,
   "metadata": {},
   "outputs": [],
   "source": [
    "def valid_file(file):\n",
    "    filename = file\n",
    "    print(filename)\n",
    "    with open(filename) as fileIn:\n",
    "        line = fileIn.readline()\n",
    "        tag = False\n",
    "        lineCount= 0\n",
    "        while line:\n",
    "            lineCount = linecount(line)\n",
    "            letter_list = line.split()\n",
    "            first_letter = letter_list[0]\n",
    "            if lineCount == 81 and line.endswith('\\n') and first_letter in record_type.values():\n",
    "                tag = True\n",
    "                #print(line)\n",
    "                #if line.startswith('HEADER'):\n",
    "                    #print(line)\n",
    "                if line.startswith('END'):\n",
    "                    print(line)\n",
    "                    print('End of file')\n",
    "                    #break\n",
    "                #line = fileIn.readline()\n",
    "                \n",
    "                \n",
    "            else:\n",
    "                tag = False\n",
    "                #print('Invalid file')\n",
    "                #print('Error not a PDB file')\n",
    "            line = fileIn.readline()      \n",
    "                \n",
    "        if tag == True:\n",
    "            menu_display1(filename)\n",
    "        if tag == False:\n",
    "            print('File error not a PDB file')\n",
    "            #break\n",
    "            #line = fileIn.readline()\n",
    "record_type= {1:'HEADER',2:'OBSLTE',3:'TITLE',4:'SPLIT',5:'CAVEAT',6:'COMPND',7:'SOURCE',8:'KEYWDS',9:'EXPDTA',10:'NUMMDL',\n",
    "              11:'MDLTYP',12:'AUTHOR',13:'REVDAT',14:'SPRSDE',15:'JRNL',16:'REMARK',17:'DBREF',18:'DBREF1',19:'DBREF2',\n",
    "        \n",
    "              20:'SEQADV',21:'SEQRES',22:'MODRES',23:'HETNAM',24:'HETSYN',25:'FORMUL',26:'HELIX',27:'SHEET',28:'SSBOND',\n",
    "              29:'LINK',30:'CISPEP',31:'SITE',32:'CRYST1',33:'ORIGX1',34:'ORIGX2',35:'ORIGX3',36:'SCALE1',37:'SCALE2',\n",
    "              38:'SCALE3',39:'MTRIX1',40:'MTRIX2',41:'MTRIX3',42:'MODEL',43:'ATOM',44:'ANISOU',45:'TER',46:'HETATM',\n",
    "              47:'ENDMDL',48:'CONECT',49:'MASTER',50:'END',51:'HET'}\n",
    "           \n",
    "   "
   ]
  },
  {
   "cell_type": "code",
   "execution_count": 59,
   "metadata": {},
   "outputs": [
    {
     "name": "stdout",
     "output_type": "stream",
     "text": [
      "1zni.pdb\n",
      "END                                                                             \n",
      "\n",
      "End of file\n",
      "********************************************************************************\n",
      "\u001b[1;44m* PDB FILE ANALYZER  \u001b[1;m                                                          *\n",
      "********************************************************************************\n",
      "*\u001b[1;34m Select an option from below:\u001b[1;m                                                 *\n",
      "\u001b[1;30m*  \u001b[1;m                                                                            *\n",
      "\u001b[1;30m*     1) \u001b[1;m Open a PDB File                          (O)                         *\n",
      "\u001b[1;30m*     2) \u001b[1;m Information                              (I)                         *\n",
      "\u001b[1;30m*     3) \u001b[1;m Show histogram of amino acids            (H)                         *\n",
      "\u001b[1;30m*     4) \u001b[1;m Display Secondary Structure              (S)                         *\n",
      "\u001b[1;30m*     5) \u001b[1;m Export PDB File                          (X)                         *\n",
      "\u001b[1;30m*     6) \u001b[1;m Exit                                     (Q)                         *\n",
      "\u001b[1;30m*  \u001b[1;m                                                                            *\n",
      "*                                                       Current PDB:\u001b[1;31m 1zni.pdb \u001b[1;m *\n",
      "********************************************************************************\n",
      ":\u001b[1;31m O\u001b[1;m\n"
     ]
    }
   ],
   "source": [
    "valid_file(currentFile)"
   ]
  },
  {
   "cell_type": "code",
   "execution_count": 5,
   "metadata": {},
   "outputs": [],
   "source": [
    "def valid_file2(file):\n",
    "    file = filename\n",
    "    print(filename)\n",
    "    with open(file) as fileIn:\n",
    "        line = fileIn.readline()\n",
    "        tag = False\n",
    "        lineCount= 0\n",
    "        while line:\n",
    "            lineCount = linecount(line)\n",
    "            letter_list = line.split()\n",
    "            first_letter = letter_list[0]\n",
    "            if lineCount == 81 and line.endswith('\\n') and first_letter in record_type.values():\n",
    "                tag = True           \n",
    "                \n",
    "            else:\n",
    "                tag = False\n",
    "            line = fileIn.readline()\n",
    "               \n",
    "                \n",
    "        if tag == True:\n",
    "            return file.name\n",
    "        if tag == False:\n",
    "            print('Invalid file')\n",
    "            print('Error not a PDB file')\n",
    "                \n",
    "   "
   ]
  },
  {
   "cell_type": "code",
   "execution_count": 17,
   "metadata": {},
   "outputs": [
    {
     "name": "stdout",
     "output_type": "stream",
     "text": [
      "test.txt\n"
     ]
    },
    {
     "ename": "FileNotFoundError",
     "evalue": "[Errno 2] No such file or directory: '/Users/johnoketch/Python_lessons/PythonMiniProject-Johnymcb/test.txt'",
     "output_type": "error",
     "traceback": [
      "\u001b[0;31m---------------------------------------------------------------------------\u001b[0m",
      "\u001b[0;31mFileNotFoundError\u001b[0m                         Traceback (most recent call last)",
      "\u001b[0;32m<ipython-input-17-1f2729f9e6fa>\u001b[0m in \u001b[0;36m<module>\u001b[0;34m\u001b[0m\n\u001b[1;32m      8\u001b[0m \u001b[0mcolumn\u001b[0m \u001b[0;34m=\u001b[0m \u001b[0;36m0\u001b[0m\u001b[0;34m\u001b[0m\u001b[0;34m\u001b[0m\u001b[0m\n\u001b[1;32m      9\u001b[0m \u001b[0;34m\u001b[0m\u001b[0m\n\u001b[0;32m---> 10\u001b[0;31m \u001b[0;32mwith\u001b[0m \u001b[0mopen\u001b[0m\u001b[0;34m(\u001b[0m\u001b[0mfile1\u001b[0m\u001b[0;34m)\u001b[0m \u001b[0;32mas\u001b[0m \u001b[0mf\u001b[0m\u001b[0;34m:\u001b[0m\u001b[0;34m\u001b[0m\u001b[0;34m\u001b[0m\u001b[0m\n\u001b[0m\u001b[1;32m     11\u001b[0m     \u001b[0mlineCount\u001b[0m\u001b[0;34m=\u001b[0m \u001b[0;36m0\u001b[0m\u001b[0;34m\u001b[0m\u001b[0;34m\u001b[0m\u001b[0m\n\u001b[1;32m     12\u001b[0m     \u001b[0mline\u001b[0m \u001b[0;34m=\u001b[0m \u001b[0mf\u001b[0m\u001b[0;34m.\u001b[0m\u001b[0mreadline\u001b[0m\u001b[0;34m(\u001b[0m\u001b[0;34m)\u001b[0m\u001b[0;34m\u001b[0m\u001b[0;34m\u001b[0m\u001b[0m\n",
      "\u001b[0;31mFileNotFoundError\u001b[0m: [Errno 2] No such file or directory: '/Users/johnoketch/Python_lessons/PythonMiniProject-Johnymcb/test.txt'"
     ]
    }
   ],
   "source": [
    "file1 = '/Users/johnoketch/Python_lessons/PythonMiniProject-Johnymcb/test.txt'\n",
    "a = file1.split('/')\n",
    "#print(a)\n",
    "name = a[len(a)-1]\n",
    "print(name)\n",
    "space  = 0\n",
    "character = 0\n",
    "column = 0\n",
    "\n",
    "with open(file1) as f:\n",
    "    lineCount= 0\n",
    "    line = f.readline()\n",
    "    while line:\n",
    "        lineCount = linecount(line)\n",
    "        if lineCount == 81:\n",
    "            print(line)\n",
    "        else:\n",
    "            #break\n",
    "            print('invalid file')\n",
    "        line = f.readline()\n",
    "        \n",
    "\n"
   ]
  },
  {
   "cell_type": "code",
   "execution_count": 18,
   "metadata": {},
   "outputs": [
    {
     "name": "stdout",
     "output_type": "stream",
     "text": [
      "test.txt\n"
     ]
    },
    {
     "ename": "FileNotFoundError",
     "evalue": "[Errno 2] No such file or directory: '/Users/johnoketch/Python_lessons/PythonMiniProject-Johnymcb/test.txt'",
     "output_type": "error",
     "traceback": [
      "\u001b[0;31m---------------------------------------------------------------------------\u001b[0m",
      "\u001b[0;31mFileNotFoundError\u001b[0m                         Traceback (most recent call last)",
      "\u001b[0;32m<ipython-input-18-4f7ed8e469e9>\u001b[0m in \u001b[0;36m<module>\u001b[0;34m\u001b[0m\n\u001b[1;32m      8\u001b[0m \u001b[0mcolumn\u001b[0m \u001b[0;34m=\u001b[0m \u001b[0;36m0\u001b[0m\u001b[0;34m\u001b[0m\u001b[0;34m\u001b[0m\u001b[0m\n\u001b[1;32m      9\u001b[0m \u001b[0;34m\u001b[0m\u001b[0m\n\u001b[0;32m---> 10\u001b[0;31m \u001b[0;32mwith\u001b[0m \u001b[0mopen\u001b[0m\u001b[0;34m(\u001b[0m\u001b[0mfile1\u001b[0m\u001b[0;34m)\u001b[0m \u001b[0;32mas\u001b[0m \u001b[0mf\u001b[0m\u001b[0;34m:\u001b[0m\u001b[0;34m\u001b[0m\u001b[0;34m\u001b[0m\u001b[0m\n\u001b[0m\u001b[1;32m     11\u001b[0m     \u001b[0mtag\u001b[0m \u001b[0;34m=\u001b[0m \u001b[0;32mFalse\u001b[0m\u001b[0;34m\u001b[0m\u001b[0;34m\u001b[0m\u001b[0m\n\u001b[1;32m     12\u001b[0m     \u001b[0mlines\u001b[0m \u001b[0;34m=\u001b[0m \u001b[0mf\u001b[0m\u001b[0;34m.\u001b[0m\u001b[0mreadlines\u001b[0m\u001b[0;34m(\u001b[0m\u001b[0;34m)\u001b[0m\u001b[0;34m\u001b[0m\u001b[0;34m\u001b[0m\u001b[0m\n",
      "\u001b[0;31mFileNotFoundError\u001b[0m: [Errno 2] No such file or directory: '/Users/johnoketch/Python_lessons/PythonMiniProject-Johnymcb/test.txt'"
     ]
    }
   ],
   "source": [
    "file1 = '/Users/johnoketch/Python_lessons/PythonMiniProject-Johnymcb/test.txt'\n",
    "a = file1.split('/')\n",
    "#print(a)\n",
    "name = a[len(a)-1]\n",
    "print(name)\n",
    "space  = 0\n",
    "character = 0\n",
    "column = 0\n",
    "\n",
    "with open(file1) as f:\n",
    "    tag = False\n",
    "    lines = f.readlines()\n",
    "    lineCount= 0\n",
    "    for line in lines:\n",
    "        letter_list = line.split()\n",
    "        first_letter = letter_list[0]\n",
    "        if first_letter in record_type.values():\n",
    "            tag = True\n",
    "        else:\n",
    "            tag = False\n",
    "        if tag == True:\n",
    "            print(line)\n",
    "        if tag == False:\n",
    "            print(line)\n",
    "            \n",
    "            \n",
    "        \n",
    "            \n",
    "       \n",
    "        "
   ]
  },
  {
   "cell_type": "code",
   "execution_count": 7,
   "metadata": {},
   "outputs": [
    {
     "data": {
      "text/plain": [
       "51"
      ]
     },
     "execution_count": 7,
     "metadata": {},
     "output_type": "execute_result"
    }
   ],
   "source": [
    "record_type= {1:'HEADER',2:'OBSLTE',3:'TITLE',4:'SPLIT',5:'CAVEAT',6:'COMPND',7:'SOURCE',8:'KEYWDS',9:'EXPDTA',10:'NUMMDL',\n",
    "              11:'MDLTYP',12:'AUTHOR',13:'REVDAT',14:'SPRSDE',15:'JRNL',16:'REMARK',17:'DBREF',18:'DBREF1',19:'DBREF2',\n",
    "        \n",
    "              20:'SEQADV',21:'SEQRES',22:'MODRES',23:'HETNAM',24:'HETSYN',25:'FORMUL',26:'HELIX',27:'SHEET',28:'SSBOND',\n",
    "              29:'LINK',30:'CISPEP',31:'SITE',32:'CRYST1',33:'ORIGX1',34:'ORIGX2',35:'ORIGX3',36:'SCALE1',37:'SCALE2',\n",
    "              38:'SCALE3',39:'MTRIX1',40:'MTRIX2',41:'MTRIX3',42:'MODEL',43:'ATOM',44:'ANISOU',45:'TER',46:'HETATM',\n",
    "              47:'ENDMDL',48:'CONECT',49:'MASTER',50:'END',51:'HET'}\n"
   ]
  },
  {
   "cell_type": "code",
   "execution_count": 29,
   "metadata": {},
   "outputs": [
    {
     "name": "stdout",
     "output_type": "stream",
     "text": [
      "********************************************************************************\n",
      "* PDB FILE ANALYZER *\n",
      "********************************************************************************\n",
      "*\u001b[1;34m Select an option from below:\u001b[1;m                                                 *\n",
      "\u001b[1;30m*  \u001b[1;m                                                                            *\n",
      "\u001b[1;30m*     1) \u001b[1;m Open a PDB File                          (O)                         *\n",
      "\u001b[1;30m*     2) \u001b[1;m Information                              (I)                         *\n",
      "\u001b[1;30m*     3) \u001b[1;m Show histogram of amino acids            (H)                         *\n",
      "\u001b[1;30m*     4) \u001b[1;m Display Secondary Structure              (S)                         *\n",
      "\u001b[1;30m*     5) \u001b[1;m Export PDB File                          (X)                         *\n",
      "\u001b[1;30m*     6) \u001b[1;m Exit                                     (Q)                         *\n",
      "* *\n",
      "Do you want to replace the current file 3ayu.pdb ?\n"
     ]
    },
    {
     "name": "stdin",
     "output_type": "stream",
     "text": [
      "Please enter 'y' to replace the file or 'n' to proceed:  y\n",
      "enter path: /Users/johnoketch/Python_lessons/PythonMiniProject-Johnymcb/test.txt\n"
     ]
    },
    {
     "name": "stdout",
     "output_type": "stream",
     "text": [
      "file successfuly loaded\n",
      "* The new Current PDB:\u001b[1;31m test.txt \u001b[1;m\n",
      "********************************************************************************\n",
      "* * * * * * * * * * * * * * * * * * * * * * * * * * * * * * * * * * * * * * * * \n"
     ]
    }
   ],
   "source": [
    "##original\n",
    "def menu_display2():\n",
    "    \n",
    "    x1 = '*' \n",
    "    x2 = '*' + \" \"\n",
    "    print(x1 * 80)\n",
    "    print('* PDB FILE ANALYZER *')\n",
    "    print(x1 * 80)\n",
    "    print('*\\033[1;34m Select an option from below:\\033[1;m{0:49s}*'.format(\"\"))\n",
    "    print('\\033[1;30m*  \\033[1;m{0:76s}*'.format(\"\"))\n",
    "    print('\\033[1;30m*     1) \\033[1;m Open a PDB File{0:26s}(O){0:25s}*'.format(\"\"))\n",
    "    print('\\033[1;30m*     2) \\033[1;m Information{0:29s} (I){0:25s}*'.format(\"\"))\n",
    "    print('\\033[1;30m*     3) \\033[1;m Show histogram of amino acids{0:11s} (H){0:25s}*'.format(\"\"))\n",
    "    print('\\033[1;30m*     4) \\033[1;m Display Secondary Structure{0:13s} (S){0:25s}*'.format(\"\"))\n",
    "    print('\\033[1;30m*     5) \\033[1;m Export PDB File{0:25s} (X){0:25s}*'.format(\"\"))\n",
    "    print('\\033[1;30m*     6) \\033[1;m Exit{0:36s} (Q){0:25s}*'.format(\"\"))\n",
    "    print('* *')\n",
    "    if len(currentFile) == 0:\n",
    "        print('* FT Current PDB:\\033[1;31m %s \\033[1;m' %currentFile)\n",
    "    elif len(currentFile) > 0:\n",
    "        print('Do you want to replace the current file %s ?'%currentFile)\n",
    "        choice = input(\"Please enter 'y' to replace the file or 'n' to proceed: \")\n",
    "        if choice.lower() in ('y','n'):\n",
    "            if choice.lower() == 'y':\n",
    "                filename = Path(input('enter path:'))\n",
    "                if  filename.exists():\n",
    "                    print('file successfuly loaded')\n",
    "                    File2 = filename.name\n",
    "                    if File2 == currentFile:\n",
    "                        print('The file %s already loaded'%File2)\n",
    "                    else:\n",
    "                        File2 != filename.name\n",
    "                        print('* The new Current PDB:\\033[1;31m %s \\033[1;m'%File2)\n",
    "                    \n",
    "                        \n",
    "                else:\n",
    "                    print('Enter a Valid Path for a PDB file: %s'%filename.name)\n",
    "            else:\n",
    "                choice.lower() == 'n'\n",
    "                print('* The retained Current PDB:\\033[1;31m %s \\033[1;m'%currentFile)\n",
    "                \n",
    "            \n",
    "    print(x1 * 80)\n",
    "    print(x2 * 40)\n",
    "    \n",
    "menu_display2()  "
   ]
  },
  {
   "cell_type": "code",
   "execution_count": 11,
   "metadata": {},
   "outputs": [
    {
     "name": "stdout",
     "output_type": "stream",
     "text": [
      "test.txt\n"
     ]
    }
   ],
   "source": [
    "print(currentFile)"
   ]
  },
  {
   "cell_type": "code",
   "execution_count": 28,
   "metadata": {},
   "outputs": [
    {
     "ename": "SyntaxError",
     "evalue": "invalid syntax (<ipython-input-28-aa15b7466df2>, line 1)",
     "output_type": "error",
     "traceback": [
      "\u001b[0;36m  File \u001b[0;32m\"<ipython-input-28-aa15b7466df2>\"\u001b[0;36m, line \u001b[0;32m1\u001b[0m\n\u001b[0;31m    1print('\\033[1;30mGray like Ghost\\033[1;m')\u001b[0m\n\u001b[0m         ^\u001b[0m\n\u001b[0;31mSyntaxError\u001b[0m\u001b[0;31m:\u001b[0m invalid syntax\n"
     ]
    }
   ],
   "source": [
    " 1print('\\033[1;30mGray like Ghost\\033[1;m')\n",
    " 2print '\\033[1;31mRed like Radish\\033[1;m'\n",
    " 3print '\\033[1;32mGreen like Grass\\033[1;m'\n",
    " 4print '\\033[1;33mYellow like Yolk\\033[1;m'\n",
    " 5print '\\033[1;34mBlue like Blood\\033[1;m'\n",
    " 6print '\\033[1;35mMagenta like Mimosa\\033[1;m'\n",
    " 7print '\\033[1;36mCyan like Caribbean\\033[1;m'\n",
    " 8print '\\033[1;37mWhite like Whipped Cream\\033[1;m'\n",
    " 9print '\\033[1;38mCrimson like Chianti\\033[1;m'\n",
    "10print '\\033[1;41mHighlighted Red like Radish\\033[1;m'\n",
    "11print '\\033[1;42mHighlighted Green like Grass\\033[1;m'\n",
    "12print '\\033[1;43mHighlighted Brown like Bear\\033[1;m'\n",
    "13print '\\033[1;44mHighlighted Blue like Blood\\033[1;m'\n",
    "14print '\\033[1;45mHighlighted Magenta like Mimosa\\033[1;m'\n",
    "15print '\\033[1;46mHighlighted Cyan like Caribbean\\033[1;m'\n",
    "16print '\\033[1;47mHighlighted Gray like Ghost\\033[1;m'\n",
    "17print '\\033[1;48mHighlighted Crimson like Chianti\\033[1;m'"
   ]
  },
  {
   "cell_type": "code",
   "execution_count": 4,
   "metadata": {},
   "outputs": [
    {
     "name": "stdout",
     "output_type": "stream",
     "text": [
      "\u001b[1;30mGray like Ghost\u001b[1;m\n",
      "\u001b[1;47mHighlighted Gray like Ghost\u001b[1;m\n"
     ]
    }
   ],
   "source": [
    "print('\\033[1;30mGray like Ghost\\033[1;m')\n",
    "print ('\\033[1;47mHighlighted Gray like Ghost\\033[1;m')"
   ]
  },
  {
   "cell_type": "code",
   "execution_count": 23,
   "metadata": {},
   "outputs": [],
   "source": [
    "\n",
    "def menu_update(filename): ##final \n",
    "    #file = currentFile\n",
    "    global currentFile\n",
    "    currentFile = filename #added line plus the argument\n",
    "    menu_display1(currentFile)\n",
    "    choice = input(\"Enter 'o' for option 1,'i' for option 2,'h' for option 3,'s' for option 4,'e' for option 5 or 'q' to quit: \")\n",
    "    print(choice.lower())\n",
    "    if choice.lower() in ('o','i','h','s','e','q'):\n",
    "        if choice.lower() == 'o':\n",
    "            print('Do you want to replace the current file %s ?'%currentFile)\n",
    "            filename = Path(input('enter path:'))\n",
    "            if  filename.exists():\n",
    "                print('file successfuly loaded')\n",
    "                File2 = filename.name\n",
    "                print(File2)\n",
    "                if File2 == currentFile:\n",
    "                    print('The file %s already loaded'%File2)\n",
    "                \n",
    "                else:\n",
    "                    print(\"loading the second file %s\"%File2)\n",
    "                    currentFile = File2\n",
    "                    print('* The new  PDB file is :\\033[1;31m %s \\033[1;m'%currentFile)\n",
    "                    #currentFile = valid_file2(currentFile)\n",
    "                    print(currentFile)\n",
    "                    menu_display1(currentFile) \n",
    "                \n",
    "                    \n",
    "                        \n",
    "            else:\n",
    "                print('Enter a Valid Path for a PDB file: %s'%filename.name)\n",
    "    #choice = input(\"Enter 'o', 'i','h','s','e' or 'q': \")\n",
    "           \n"
   ]
  },
  {
   "cell_type": "code",
   "execution_count": 50,
   "metadata": {},
   "outputs": [
    {
     "name": "stdout",
     "output_type": "stream",
     "text": [
      "********************************************************************************\n",
      "\u001b[1;44m* PDB FILE ANALYZER  \u001b[1;m                                                          *\n",
      "********************************************************************************\n",
      "*\u001b[1;34m Select an option from below:\u001b[1;m                                                 *\n",
      "\u001b[1;30m*  \u001b[1;m                                                                            *\n",
      "\u001b[1;30m*     1) \u001b[1;m Open a PDB File                          (O)                         *\n",
      "\u001b[1;30m*     2) \u001b[1;m Information                              (I)                         *\n",
      "\u001b[1;30m*     3) \u001b[1;m Show histogram of amino acids            (H)                         *\n",
      "\u001b[1;30m*     4) \u001b[1;m Display Secondary Structure              (S)                         *\n",
      "\u001b[1;30m*     5) \u001b[1;m Export PDB File                          (X)                         *\n",
      "\u001b[1;30m*     6) \u001b[1;m Exit                                     (Q)                         *\n",
      "\u001b[1;30m*  \u001b[1;m                                                                            *\n",
      "*                                               Current PDB:\u001b[1;31m test.txt \u001b[1;m *\n",
      "********************************************************************************\n",
      ":\u001b[1;31m O\u001b[1;m\n"
     ]
    },
    {
     "name": "stdin",
     "output_type": "stream",
     "text": [
      "Enter 'o' for option 1,'i' for option 2,'h' for option 3,'s' for option 4,'e' for option 5 or 'q' to quit:  o\n"
     ]
    },
    {
     "name": "stdout",
     "output_type": "stream",
     "text": [
      "o\n",
      "Do you want to replace the current file test.txt ?\n"
     ]
    },
    {
     "name": "stdin",
     "output_type": "stream",
     "text": [
      "enter path: /Users/johnoketch/Python_lessons/PythonMiniProject-Johnymcb/untitledext3.txt\n"
     ]
    },
    {
     "name": "stdout",
     "output_type": "stream",
     "text": [
      "file successfuly loaded\n",
      "untitledext3.txt\n",
      "loading the second file untitledext3.txt\n",
      "* The new  PDB file is :\u001b[1;31m untitledext3.txt \u001b[1;m\n",
      "/Users/johnoketch/Python_lessons/PythonMiniProject-Johnymcb/1zni.pdb\n",
      "1zni.pdb\n"
     ]
    }
   ],
   "source": [
    " menu_update(currentFile)"
   ]
  },
  {
   "cell_type": "code",
   "execution_count": 8,
   "metadata": {},
   "outputs": [
    {
     "data": {
      "text/plain": [
       "'/Users/johnoketch/Python_lessons/PythonMiniProject-Johnymcb'"
      ]
     },
     "execution_count": 8,
     "metadata": {},
     "output_type": "execute_result"
    }
   ],
   "source": [
    "import os\n",
    "os.getcwd()"
   ]
  }
 ],
 "metadata": {
  "kernelspec": {
   "display_name": "Python 3",
   "language": "python",
   "name": "python3"
  },
  "language_info": {
   "codemirror_mode": {
    "name": "ipython",
    "version": 3
   },
   "file_extension": ".py",
   "mimetype": "text/x-python",
   "name": "python",
   "nbconvert_exporter": "python",
   "pygments_lexer": "ipython3",
   "version": "3.7.3"
  }
 },
 "nbformat": 4,
 "nbformat_minor": 4
}
