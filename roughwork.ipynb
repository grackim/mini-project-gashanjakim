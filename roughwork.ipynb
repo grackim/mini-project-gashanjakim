{
 "cells": [
  {
   "cell_type": "code",
   "execution_count": 5,
   "metadata": {},
   "outputs": [
    {
     "data": {
      "text/plain": [
       "'GGCGCAAGT'"
      ]
     },
     "execution_count": 5,
     "metadata": {},
     "output_type": "execute_result"
    }
   ],
   "source": [
    "def get_complement(nucleotide):\n",
    "    \"\"\" Returns the complementary nucleotide\n",
    "\n",
    "        nucleotide: a nucleotide (A, C, G, or T) represented as a string\n",
    "        returns: the complementary nucleotide\n",
    "    >>> get_complement('A')\n",
    "    'T'\n",
    "    >>> get_complement('C')\n",
    "    'G'\n",
    "    \"\"\"\n",
    "    # TODO: implement this\n",
    "    comp = \"\"\n",
    "    for c in nucleotide.upper():\n",
    "        if c == \"A\":\n",
    "            comp = \"T\" + comp\n",
    "        elif c == \"T\":\n",
    "            comp = \"A\" + comp\n",
    "        elif c == \"G\":\n",
    "            comp = \"C\" + comp\n",
    "        elif c== \"C\":\n",
    "            comp = \"G\" + comp\n",
    "    return comp[::-1]\n",
    "get_complement('CCGCGTTCA')\n",
    "#pass"
   ]
  },
  {
   "cell_type": "code",
   "execution_count": 11,
   "metadata": {},
   "outputs": [
    {
     "name": "stdout",
     "output_type": "stream",
     "text": [
      "T\n"
     ]
    }
   ],
   "source": [
    "comp = \"\"\n",
    "gene='T'\n",
    "seq=gene + comp\n",
    "print(seq)"
   ]
  },
  {
   "cell_type": "code",
   "execution_count": 14,
   "metadata": {},
   "outputs": [
    {
     "data": {
      "text/plain": [
       "'CCTAGTAAGTATCAGATCAG'"
      ]
     },
     "execution_count": 14,
     "metadata": {},
     "output_type": "execute_result"
    }
   ],
   "source": [
    "def reverse_complement (dna_seq):\n",
    "    \"\"\" Computes the reverse complementary sequence of DNA for the specfied DNA\n",
    "        sequence\n",
    "\n",
    "        dna: a DNA sequence represented as a string\n",
    "        returns: the reverse complementary DNA sequence represented as a string\n",
    "    >>> get_reverse_complement(\"ATGCCCGCTTT\")\n",
    "    'AAAGCGGGCAT'\n",
    "    >>> get_reverse_complement(\"CCGCGTTCA\")\n",
    "    'TGAACGCGG'\n",
    "    \"\"\"\n",
    "    comp = \"\"\n",
    "    for c in dna_seq.upper():\n",
    "        if c == \"A\":\n",
    "            comp = \"T\" + comp\n",
    "        elif c == \"T\":\n",
    "            comp = \"A\" + comp\n",
    "        elif c == \"G\":\n",
    "            comp = \"C\" + comp\n",
    "        elif c== \"C\":\n",
    "            comp = \"G\" + comp\n",
    "    return comp\n",
    "reverse_complement ('ctgatctgatacttactagg')"
   ]
  },
  {
   "cell_type": "code",
   "execution_count": 6,
   "metadata": {},
   "outputs": [
    {
     "data": {
      "text/plain": [
       "'GAGTGCCGTTATTTAGGGATG'"
      ]
     },
     "execution_count": 6,
     "metadata": {},
     "output_type": "execute_result"
    }
   ],
   "source": [
    "def get_reverse_complement(dna):\n",
    "    \"\"\" Computes the reverse complementary sequence of DNA for the specfied DNA\n",
    "        sequence\n",
    "        dna: a DNA sequence represented as a string\n",
    "        returns: the reverse complementary DNA sequence represented as a string\n",
    "    >>> get_reverse_complement(\"ATGCCCGCTTT\")\n",
    "    'AAAGCGGGCAT'\n",
    "    >>> get_reverse_complement(\"CCGCGTTCA\")\n",
    "    'TGAACGCGG'\n",
    "    >>> get_reverse_complement(\"CATCCCTAAATAACGGCACTC\")\n",
    "    'GAGTGCCGTTATTTAGGGATG'\n",
    "    \"\"\"\n",
    "\n",
    "    dnalist = list (dna) #dna in correct order\n",
    "    dnalist.reverse() #dna in complement order now\n",
    "    finallist = list () #create a totally empty list\n",
    "    for element in dnalist: #taking reversed element list, getting complement, putting it in final list\n",
    "        element = get_complement(element) #now we have the complement\n",
    "        finallist.append(element) #stick that one on the end\n",
    "    try:\n",
    "        finalstring = ''.join(finallist) #smoosh the list into a string\n",
    "        return finalstring\n",
    "    except TypeError:\n",
    "        print (\"TypeError\", finallist)\n",
    "get_reverse_complement('CATCCCTAAATAACGGCACTC')"
   ]
  },
  {
   "cell_type": "code",
   "execution_count": 54,
   "metadata": {},
   "outputs": [
    {
     "name": "stdout",
     "output_type": "stream",
     "text": [
      "0\n",
      "3\n"
     ]
    },
    {
     "data": {
      "text/plain": [
       "'ATG'"
      ]
     },
     "execution_count": 54,
     "metadata": {},
     "output_type": "execute_result"
    }
   ],
   "source": [
    "def rest_of_ORF(dna):\n",
    "    \"\"\" Takes a DNA sequence that is assumed to begin with a start\n",
    "        codon and returns the sequence up to but not including the\n",
    "        first in frame stop codon.  If there is no in frame stop codon,\n",
    "        returns the whole string.\n",
    "\n",
    "        dna: a DNA sequence\n",
    "        returns: the open reading frame represented as a string\n",
    "    >>> rest_of_ORF(\"ATGTGAA\")\n",
    "    'ATG'\n",
    "    >>> rest_of_ORF(\"ATGAGATAGG\")\n",
    "    'ATGAGA'\n",
    "    \"\"\"\n",
    "    # TODO: implement this\n",
    "    #pass\n",
    "    atpo = dna.find('ATG')\n",
    "    print(atpos)\n",
    "    \n",
    "    sppos = dna.find('TGA',atpos)\n",
    "    print(sppos)\n",
    "    \n",
    "    host = dna[atpos:sppos]\n",
    "    \n",
    "    return host\n",
    "        \n",
    "rest_of_ORF('ATGTGAA')"
   ]
  },
  {
   "cell_type": "code",
   "execution_count": 64,
   "metadata": {},
   "outputs": [
    {
     "ename": "SyntaxError",
     "evalue": "invalid character in identifier (<ipython-input-64-f1e0351ef51e>, line 6)",
     "output_type": "error",
     "traceback": [
      "\u001b[0;36m  File \u001b[0;32m\"<ipython-input-64-f1e0351ef51e>\"\u001b[0;36m, line \u001b[0;32m6\u001b[0m\n\u001b[0;31m    for pos in range (ini_pos,len(seqm)− 2 ,3):\u001b[0m\n\u001b[0m                                       ^\u001b[0m\n\u001b[0;31mSyntaxError\u001b[0m\u001b[0;31m:\u001b[0m invalid character in identifier\n"
     ]
    }
   ],
   "source": [
    "def translate_seq (dna_seq , ini_pos = 0):\n",
    "    \"\"\" Translates a DNA sequence into an aminoacid sequence. \"\"\"\n",
    "    #assert validate_dna (dna_seq), \" Invalid DNA sequence\"\n",
    "    seqm = dna_seq.upper()\n",
    "    seq_aa = \"\"\n",
    "    for pos in range (ini_pos,len(seqm)− 2 ,3):\n",
    "        cod = seqm[pos:pos +3]"
   ]
  },
  {
   "cell_type": "code",
   "execution_count": null,
   "metadata": {},
   "outputs": [],
   "source": []
  },
  {
   "cell_type": "code",
   "execution_count": 4,
   "metadata": {},
   "outputs": [
    {
     "name": "stdout",
     "output_type": "stream",
     "text": [
      "21\n",
      "31\n",
      "uct.ac.za\n"
     ]
    }
   ],
   "source": [
    "data = 'From stephen.marquard@uct.ac.za Sat Jan'\n",
    "atpos = data.find('@')\n",
    "print(atpos)\n",
    "\n",
    "sppos = data.find(' ',atpos)\n",
    "print(sppos)\n",
    "\n",
    "host = data[atpos+1:sppos]\n",
    "print(host)\n"
   ]
  },
  {
   "cell_type": "code",
   "execution_count": 33,
   "metadata": {},
   "outputs": [
    {
     "name": "stdout",
     "output_type": "stream",
     "text": [
      "5\n",
      "ATGCA\n"
     ]
    }
   ],
   "source": [
    "data = 'ATGCATGAATGTAGATAGATGTGCCC'\n",
    "atpos = data.find('ATG')\n",
    "#print(atpos)\n",
    "\n",
    "sppos = data.find('TGA')#,atpos)\n",
    "print(sppos)\n",
    "\n",
    "host = data[atpos:sppos]\n",
    "print(host)\n"
   ]
  },
  {
   "cell_type": "code",
   "execution_count": 102,
   "metadata": {},
   "outputs": [
    {
     "data": {
      "text/plain": [
       "'ATGCATGAATGTAGA'"
      ]
     },
     "execution_count": 102,
     "metadata": {},
     "output_type": "execute_result"
    }
   ],
   "source": [
    "def find_all_ORFs_oneframe(dna):\n",
    "    \"\"\" Finds all non-nested open reading frames in the given DNA\n",
    "        sequence and returns them as a list.  This function should\n",
    "        only find ORFs that are in the default frame of the sequence\n",
    "        (i.e. they start on indices that are multiples of 3).\n",
    "        By non-nested we mean that if an ORF occurs entirely within\n",
    "        another ORF, it should not be included in the returned list of ORFs.\n",
    "\n",
    "        dna: a DNA sequence\n",
    "        returns: a list of non-nested ORFs\n",
    "    >>> find_all_ORFs_oneframe(\"ATGCATGAATGTAGATAGATGTGCCC\")\n",
    "    ['ATGCATGAATGTAGA', 'ATGTGCCC']\n",
    "    \"\"\"\n",
    "    # TODO: implement this\n",
    "    #pass\n",
    "    #data = 'ATGAGATAGG'\n",
    "    ORF = ''\n",
    "    x = 0\n",
    "    for x in range(0,len(dna),3):\n",
    "        i = dna[x:x+3]\n",
    "        if dna[x:x+3] == 'TGA':\n",
    "            return ORF\n",
    "        if dna[x:x+3] == 'TAG':\n",
    "            return ORF\n",
    "        if dna[x:x+3] == 'TAA':\n",
    "            return ORF\n",
    "        ORF = ORF + i\n",
    "        \n",
    "    return ORF\n",
    "\n",
    "find_all_ORFs_oneframe('ATGCATGAATGTAGATAGATGTGCCC')"
   ]
  },
  {
   "cell_type": "code",
   "execution_count": 99,
   "metadata": {},
   "outputs": [
    {
     "name": "stdout",
     "output_type": "stream",
     "text": [
      "ATGCATGAATGTAGA\n",
      "ATGCATGAATGTAGATAGATGTGCCC\n"
     ]
    }
   ],
   "source": [
    "data = 'ATGCATGAATGTAGATAGATGTGCCC'\n",
    "ORF = ''\n",
    "    x = 0\n",
    "    for x in range(0,len(dna),3):\n",
    "        i = dna[x:x+3]\n",
    "        if dna[x:x+3] == 'TGA':\n",
    "            return ORF\n",
    "        if dna[x:x+3] == 'TAG':\n",
    "            return ORF\n",
    "        if dna[x:x+3] == 'TAA':\n",
    "            return ORF\n",
    "        ORF = ORF + i\n",
    "return ORF\n",
    "\n"
   ]
  },
  {
   "cell_type": "code",
   "execution_count": 43,
   "metadata": {},
   "outputs": [
    {
     "name": "stdin",
     "output_type": "stream",
     "text": [
      "Enter your dna ATGCATGAATGTAGATAGATGTGCCC\n"
     ]
    },
    {
     "name": "stdout",
     "output_type": "stream",
     "text": [
      "ATGCA\n"
     ]
    }
   ],
   "source": [
    "def orf():\n",
    "    data=str(input('Enter your dna'))\n",
    "    atpos=data.find('ATG')\n",
    "    sppos=data.find('TGA',atpos)\n",
    "    host = data[atpos:sppos]\n",
    "    print(host)\n",
    "orf()"
   ]
  },
  {
   "cell_type": "code",
   "execution_count": 46,
   "metadata": {},
   "outputs": [
    {
     "ename": "NameError",
     "evalue": "name 'dna' is not defined",
     "output_type": "error",
     "traceback": [
      "\u001b[0;31m---------------------------------------------------------------------------\u001b[0m",
      "\u001b[0;31mNameError\u001b[0m                                 Traceback (most recent call last)",
      "\u001b[0;32m<ipython-input-46-5791c499504e>\u001b[0m in \u001b[0;36m<module>\u001b[0;34m\u001b[0m\n\u001b[1;32m     18\u001b[0m     \u001b[0;32mexcept\u001b[0m \u001b[0mUnboundLocalError\u001b[0m\u001b[0;34m:\u001b[0m\u001b[0;34m\u001b[0m\u001b[0;34m\u001b[0m\u001b[0m\n\u001b[1;32m     19\u001b[0m         \u001b[0;32mNone\u001b[0m\u001b[0;34m\u001b[0m\u001b[0;34m\u001b[0m\u001b[0m\n\u001b[0;32m---> 20\u001b[0;31m \u001b[0mstartstop_codon\u001b[0m\u001b[0;34m(\u001b[0m\u001b[0mdna\u001b[0m\u001b[0;34m,\u001b[0m\u001b[0mframe\u001b[0m\u001b[0;34m)\u001b[0m\u001b[0;34m\u001b[0m\u001b[0;34m\u001b[0m\u001b[0m\n\u001b[0m",
      "\u001b[0;31mNameError\u001b[0m: name 'dna' is not defined"
     ]
    }
   ],
   "source": [
    "def startstop_codon(dna,frame):\n",
    "    \"\"\" TO CHECK THE PRESENCE OF START CODON AND ITS POSITION\"\"\"\n",
    "    start_codons=['ATG','atg'] ; stop_codons=['TAA','TAG','TGA','taa','tag','tga'] #referece list of start and stop codons\n",
    "    for i in range(frame,len(dna),3):\n",
    "        codon1=dna[i:i+3]\n",
    "        if codon1 in start_codons:\n",
    "            position1=dna.index(codon1)#getting the index of the start codon\n",
    "            ORF_start=position1+1\n",
    "            for j in range(position1,len(dna),3):\n",
    "                codon2=dna[j:j+3]\n",
    "                if codon2 in stop_codons:\n",
    "                    position2=dna.index(codon2)#getting the index of the stop codon\n",
    "                    ORF_stop=position2+1\n",
    "                    break #terminating the loop when a stop codon is found\n",
    "            break\n",
    "    try:\n",
    "        return len(dna[position1:position2])+2\n",
    "    except UnboundLocalError:\n",
    "        None \n",
    "        \n",
    "    startstop_codon(dna,frame)"
   ]
  },
  {
   "cell_type": "code",
   "execution_count": 75,
   "metadata": {},
   "outputs": [
    {
     "ename": "NameError",
     "evalue": "name 'records' is not defined",
     "output_type": "error",
     "traceback": [
      "\u001b[0;31m---------------------------------------------------------------------------\u001b[0m",
      "\u001b[0;31mNameError\u001b[0m                                 Traceback (most recent call last)",
      "\u001b[0;32m<ipython-input-75-3261587f1979>\u001b[0m in \u001b[0;36m<module>\u001b[0;34m\u001b[0m\n\u001b[1;32m     16\u001b[0m     \u001b[0mprint\u001b[0m\u001b[0;34m(\u001b[0m\u001b[0;34m\"Longest ORF in Frame %d is of length %d and its ID is %s.\"\u001b[0m \u001b[0;34m%\u001b[0m \u001b[0;34m(\u001b[0m\u001b[0mframe\u001b[0m\u001b[0;34m+\u001b[0m\u001b[0;36m1\u001b[0m\u001b[0;34m,\u001b[0m\u001b[0mORF_lengths\u001b[0m\u001b[0;34m[\u001b[0m\u001b[0mmax_len\u001b[0m\u001b[0;34m]\u001b[0m\u001b[0;34m,\u001b[0m\u001b[0mmax_len\u001b[0m\u001b[0;34m)\u001b[0m\u001b[0;34m)\u001b[0m\u001b[0;34m\u001b[0m\u001b[0;34m\u001b[0m\u001b[0m\n\u001b[1;32m     17\u001b[0m \u001b[0;34m\u001b[0m\u001b[0m\n\u001b[0;32m---> 18\u001b[0;31m \u001b[0mfinding_ORF\u001b[0m\u001b[0;34m(\u001b[0m\u001b[0;34m'ATGAGATAGG'\u001b[0m\u001b[0;34m)\u001b[0m\u001b[0;34m\u001b[0m\u001b[0;34m\u001b[0m\u001b[0m\n\u001b[0m",
      "\u001b[0;32m<ipython-input-75-3261587f1979>\u001b[0m in \u001b[0;36mfinding_ORF\u001b[0;34m(frame)\u001b[0m\n\u001b[1;32m      2\u001b[0m     \"\"\"TO IDENTIFY THE ORF IN THE READING FRAMES AND \n\u001b[1;32m      3\u001b[0m     IDENTIFY THE LONGEST ORF IN EACH SEQUENCE AND THE POSITION OF THE START CODON\"\"\"\n\u001b[0;32m----> 4\u001b[0;31m     \u001b[0msequences\u001b[0m\u001b[0;34m=\u001b[0m\u001b[0;34m[\u001b[0m\u001b[0mreads\u001b[0m\u001b[0;34m.\u001b[0m\u001b[0mseq\u001b[0m \u001b[0;32mfor\u001b[0m \u001b[0mreads\u001b[0m \u001b[0;32min\u001b[0m \u001b[0mrecords\u001b[0m\u001b[0;34m]\u001b[0m \u001b[0;31m#creating alist of all the sequence reads as elements of the list\u001b[0m\u001b[0;34m\u001b[0m\u001b[0;34m\u001b[0m\u001b[0m\n\u001b[0m\u001b[1;32m      5\u001b[0m     \u001b[0mORF_lengths\u001b[0m\u001b[0;34m=\u001b[0m\u001b[0;34m{\u001b[0m\u001b[0;34m}\u001b[0m\u001b[0;34m\u001b[0m\u001b[0;34m\u001b[0m\u001b[0m\n\u001b[1;32m      6\u001b[0m     \u001b[0mpositions\u001b[0m\u001b[0;34m=\u001b[0m\u001b[0;34m{\u001b[0m\u001b[0;34m}\u001b[0m\u001b[0;34m\u001b[0m\u001b[0;34m\u001b[0m\u001b[0m\n",
      "\u001b[0;31mNameError\u001b[0m: name 'records' is not defined"
     ]
    }
   ],
   "source": [
    "def finding_ORF(frame):\n",
    "    \"\"\"TO IDENTIFY THE ORF IN THE READING FRAMES AND \n",
    "    IDENTIFY THE LONGEST ORF IN EACH SEQUENCE AND THE POSITION OF THE START CODON\"\"\"\n",
    "    sequences=[reads.seq for reads in records] #creating alist of all the sequence reads as elements of the list\n",
    "    ORF_lengths={}\n",
    "    positions={}\n",
    "    max_lenth_ORFs=[]\n",
    "    for read in range(len(records)): #loop for accessing each sequence read from the list\n",
    "        seq=str(sequences[read])\n",
    "        a=startstop_codon(seq,frame) #calling the codon reading function\n",
    "        if a== None: #assigning value for reads with no codons\n",
    "            a = 0\n",
    "        ORF_lengths[records[read].id]=a #creating a dictionary of ORF lengths(value) and sequence IDs(key)\n",
    "    max_len=max(ORF_lengths,key=ORF_lengths.get) #getting the ID of the Sequence read containing the maximum length ORF\n",
    "    #printing the result\n",
    "    print(\"Longest ORF in Frame %d is of length %d and its ID is %s.\" % (frame+1,ORF_lengths[max_len],max_len))\n",
    "    \n",
    "finding_ORF('ATGAGATAGG')"
   ]
  },
  {
   "cell_type": "code",
   "execution_count": 72,
   "metadata": {},
   "outputs": [
    {
     "data": {
      "text/plain": [
       "<generator object startstop_codon at 0x7f95477adb30>"
      ]
     },
     "execution_count": 72,
     "metadata": {},
     "output_type": "execute_result"
    }
   ],
   "source": [
    "def startstop_codon(dna):\n",
    "    dna = dna.upper()\n",
    "    for i in range(frame, len(dna), 3):\n",
    "        codon1 = dna[i:i+3]\n",
    "        if codon1 == 'ATG':\n",
    "            position1 = i\n",
    "            for j in range(position1, len(dna), 3):\n",
    "                codon2 = dna[j:j+3]\n",
    "                if codon2 in ['TAA', 'TAG', 'TGA']:\n",
    "                    position2 = j\n",
    "                    yield (position2-position1+3, dna[position1:position2+3])\n",
    "                    break\n",
    "                    \n",
    "startstop_codon('ATGAGATAGG')"
   ]
  },
  {
   "cell_type": "code",
   "execution_count": 95,
   "metadata": {},
   "outputs": [
    {
     "name": "stdout",
     "output_type": "stream",
     "text": [
      "A\n"
     ]
    }
   ],
   "source": [
    "def rest_of_ORF(dna):\n",
    "    \"\"\" Takes a DNA sequence that is assumed to begin with a start\n",
    "        codon and returns the sequence up to but not including the\n",
    "        first in frame stop codon.  If there is no in frame stop codon,\n",
    "        returns the whole string.\n",
    "\n",
    "        dna: a DNA sequence\n",
    "        returns: the open reading frame represented as a string\n",
    "    >>> rest_of_ORF(\"ATGTGAA\")\n",
    "    'ATG'\n",
    "    >>> rest_of_ORF(\"ATGAGATAGG\")\n",
    "    'ATGAGA'\n",
    "    \"\"\"\n",
    "    # TODO: implement this\n",
    "    #pass\n",
    "    \n",
    "    atpo=dna.find('ATG')\n",
    "    stop1=dna.find('TGA',atpos)\n",
    "    host1=dna[atpos:stop1]\n",
    "    \n",
    "    atpo=dna.find('ATG')\n",
    "    stop2=dna.find('TAG',atpos)\n",
    "    host2=dna[atpos:stop2]\n",
    "    \n",
    "    atpo=dna.find('ATG')\n",
    "    stop3=dna.find('TAA',atpos)\n",
    "    host3=dna[atpos:stop3]\n",
    "    \n",
    "    print(host1)\n",
    "        \n",
    "rest_of_ORF('ATGAGATAGG')"
   ]
  },
  {
   "cell_type": "code",
   "execution_count": 88,
   "metadata": {},
   "outputs": [
    {
     "ename": "SyntaxError",
     "evalue": "invalid syntax (<ipython-input-88-a24ac5196403>, line 6)",
     "output_type": "error",
     "traceback": [
      "\u001b[0;36m  File \u001b[0;32m\"<ipython-input-88-a24ac5196403>\"\u001b[0;36m, line \u001b[0;32m6\u001b[0m\n\u001b[0;31m    res.append(get_complement(dna_seq)\u001b[0m\n\u001b[0m    ^\u001b[0m\n\u001b[0;31mSyntaxError\u001b[0m\u001b[0;31m:\u001b[0m invalid syntax\n"
     ]
    }
   ],
   "source": [
    "def reading_frames(dna_seq):\n",
    "    \"\"\" Computes the six reading frames of a DNA sequence ( including\n",
    "    the reverse complement.\"\"\"\n",
    "    res = []\n",
    "    res.append(get_complement(dna_seq)\n",
    "    res.append(get_complement(dna_seq)\n",
    "    res.append(get_complement(dna_seq)\n",
    "    #rc = reverse_complement ( dna_seq )\n",
    "    #res. append( translate_seq(rc ,0))\n",
    "    #res. append( translate_seq(rc ,1))\n",
    "    #res. append( translate_seq(rc ,2))\n",
    "    return res\n",
    "reading_frames('ATGCATGAATGTAGATAGATGTGCCC')"
   ]
  },
  {
   "cell_type": "code",
   "execution_count": null,
   "metadata": {},
   "outputs": [],
   "source": [
    "ORF = ''\n",
    "    x = 0\n",
    "    for x in range(0,len(dna),3):\n",
    "        i = dna[x:x+3]\n",
    "        if dna[x:x+3] == 'TGA':\n",
    "            return ORF\n",
    "        if dna[x:x+3] == 'TAG':\n",
    "            return ORF\n",
    "        if dna[x:x+3] == 'TAA':\n",
    "            return ORF\n",
    "        ORF = ORF + i\n",
    "return ORF"
   ]
  },
  {
   "cell_type": "code",
   "execution_count": 2,
   "metadata": {},
   "outputs": [],
   "source": [
    "aa = ['F', 'L', 'I', 'M', 'V', 'S', 'P', 'T', 'A', 'Y',\n",
    "      '|', 'H', 'Q', 'N', 'K', 'D', 'E', 'C', 'W', 'R',\n",
    "      'G']\n",
    "\n",
    "codons = [['TTT', 'TTC'],\n",
    "          ['TTA', 'TTG', 'CTT', 'CTC', 'CTA', 'CTG'],\n",
    "          ['ATT', 'ATC', 'ATA'],\n",
    "          ['ATG'],\n",
    "          ['GTT', 'GTC', 'GTA', 'GTG'],\n",
    "          ['TCT', 'TCC', 'TCA', 'TCG', 'AGT', 'AGC'],\n",
    "          ['CCT', 'CCC', 'CCA', 'CCG'],\n",
    "          ['ACT', 'ACC', 'ACA', 'ACG'],\n",
    "          ['GCT', 'GCC', 'GCA', 'GCG'],\n",
    "          ['TAT', 'TAC'],\n",
    "          ['TAA', 'TAG', 'TGA'],\n",
    "          ['CAT', 'CAC'],\n",
    "          ['CAA', 'CAG'],\n",
    "          ['AAT', 'AAC'],\n",
    "          ['AAA', 'AAG'],\n",
    "          ['GAT', 'GAC'],\n",
    "          ['GAA', 'GAG'],\n",
    "          ['TGT', 'TGC'],\n",
    "          ['TGG'],\n",
    "          ['CGT', 'CGC', 'CGA', 'CGG', 'AGA', 'AGG'],\n",
    "          ['GGT', 'GGC', 'GGA', 'GGG']]\n",
    "\n",
    "# create a dictionary lookup table for mapping codons into amino acids\n",
    "aa_table = {}\n",
    "for i in range(len(aa)):\n",
    "    for codon in codons[i]:\n",
    "        aa_table[codon] = aa[i]\n"
   ]
  },
  {
   "cell_type": "code",
   "execution_count": 6,
   "metadata": {},
   "outputs": [
    {
     "data": {
      "text/plain": [
       "'ATGAGA'"
      ]
     },
     "execution_count": 6,
     "metadata": {},
     "output_type": "execute_result"
    }
   ],
   "source": [
    "def rest_of_ORF(dna):\n",
    "    \"\"\" Takes a DNA sequence that is assumed to begin with a start\n",
    "        codon and returns the sequence up to but not including the\n",
    "        first in frame stop codon.  If there is no in frame stop codon,\n",
    "        returns the whole string.\n",
    "        dna: a DNA sequence\n",
    "        returns: the open reading frame represented as a string\n",
    "    >>> rest_of_ORF(\"ATGTGAA\")\n",
    "    'ATG'\n",
    "    >>> rest_of_ORF(\"ATGAGATAGG\")\n",
    "    'ATGAGA'\n",
    "    >>> rest_of_ORF(\"ATGAGATAAG\")\n",
    "    'ATGAGA'\n",
    "    >>> rest_of_ORF(\"ATGAGATCGG\")\n",
    "    'ATGAGATCGG'\n",
    "    \"\"\"\n",
    "    ORF = ''\n",
    "    x = 0\n",
    "    for x in range(0,len(dna),3):\n",
    "        i = dna[x:x+3]\n",
    "        if dna[x:x+3] == 'TGA':\n",
    "            return ORF\n",
    "        if dna[x:x+3] == 'TAG':\n",
    "            return ORF\n",
    "        if dna[x:x+3] == 'TAA':\n",
    "            return ORF\n",
    "        ORF = ORF + i\n",
    "    return ORF\n",
    "rest_of_ORF('ATGAGATAGG')"
   ]
  },
  {
   "cell_type": "code",
   "execution_count": 9,
   "metadata": {},
   "outputs": [
    {
     "data": {
      "text/plain": [
       "'TACTCTAGCC'"
      ]
     },
     "execution_count": 9,
     "metadata": {},
     "output_type": "execute_result"
    }
   ],
   "source": [
    "def get_complement(nucleotide):\n",
    "    \"\"\" Returns the complementary nucleotide\n",
    "        nucleotide: a nucleotide (A, C, G, or T) represented as a string\n",
    "        returns: the complementary nucleotide\n",
    "    >>> get_complement('A')\n",
    "    'T'\n",
    "    >>> get_complement('C')\n",
    "    'G'\n",
    "    \"\"\"\n",
    "    # TODO: implement this\n",
    "    complement = {'A': 'T', 'C': 'G', 'G': 'C', 'T': 'A'} \n",
    "    bases = nucleotide \n",
    "    bases = [complement[base] for base in bases] \n",
    "    return ''.join(bases)\n",
    "get_complement('ATGAGATCGG')"
   ]
  },
  {
   "cell_type": "code",
   "execution_count": 7,
   "metadata": {},
   "outputs": [
    {
     "ename": "NameError",
     "evalue": "name 'rest_of_ORF' is not defined",
     "output_type": "error",
     "traceback": [
      "\u001b[0;31m---------------------------------------------------------------------------\u001b[0m",
      "\u001b[0;31mNameError\u001b[0m                                 Traceback (most recent call last)",
      "\u001b[0;32m<ipython-input-7-641b1d74ddb3>\u001b[0m in \u001b[0;36m<module>\u001b[0;34m\u001b[0m\n\u001b[1;32m     24\u001b[0m         \u001b[0mx\u001b[0m \u001b[0;34m=\u001b[0m \u001b[0mx\u001b[0m\u001b[0;34m+\u001b[0m\u001b[0;36m3\u001b[0m\u001b[0;34m\u001b[0m\u001b[0;34m\u001b[0m\u001b[0m\n\u001b[1;32m     25\u001b[0m     \u001b[0;32mreturn\u001b[0m \u001b[0mORF2\u001b[0m\u001b[0;34m\u001b[0m\u001b[0;34m\u001b[0m\u001b[0m\n\u001b[0;32m---> 26\u001b[0;31m \u001b[0mfind_all_ORFs_oneframe\u001b[0m\u001b[0;34m(\u001b[0m\u001b[0;34m'ATGCATGATGAATGTAGATAGATGTGCCC'\u001b[0m\u001b[0;34m)\u001b[0m\u001b[0;34m\u001b[0m\u001b[0;34m\u001b[0m\u001b[0m\n\u001b[0m",
      "\u001b[0;32m<ipython-input-7-641b1d74ddb3>\u001b[0m in \u001b[0;36mfind_all_ORFs_oneframe\u001b[0;34m(dna)\u001b[0m\n\u001b[1;32m     19\u001b[0m         \u001b[0mi\u001b[0m \u001b[0;34m=\u001b[0m \u001b[0mdna\u001b[0m\u001b[0;34m[\u001b[0m\u001b[0mx\u001b[0m\u001b[0;34m:\u001b[0m\u001b[0mx\u001b[0m\u001b[0;34m+\u001b[0m\u001b[0;36m3\u001b[0m\u001b[0;34m]\u001b[0m\u001b[0;34m\u001b[0m\u001b[0;34m\u001b[0m\u001b[0m\n\u001b[1;32m     20\u001b[0m         \u001b[0;32mif\u001b[0m \u001b[0mi\u001b[0m \u001b[0;34m==\u001b[0m \u001b[0mStartCodon\u001b[0m\u001b[0;34m:\u001b[0m\u001b[0;34m\u001b[0m\u001b[0;34m\u001b[0m\u001b[0m\n\u001b[0;32m---> 21\u001b[0;31m             \u001b[0mORF\u001b[0m \u001b[0;34m=\u001b[0m \u001b[0mrest_of_ORF\u001b[0m\u001b[0;34m(\u001b[0m\u001b[0mdna\u001b[0m\u001b[0;34m[\u001b[0m\u001b[0mx\u001b[0m\u001b[0;34m:\u001b[0m\u001b[0;34m]\u001b[0m\u001b[0;34m)\u001b[0m\u001b[0;34m\u001b[0m\u001b[0;34m\u001b[0m\u001b[0m\n\u001b[0m\u001b[1;32m     22\u001b[0m             \u001b[0mORF2\u001b[0m\u001b[0;34m.\u001b[0m\u001b[0mappend\u001b[0m\u001b[0;34m(\u001b[0m\u001b[0mORF\u001b[0m\u001b[0;34m)\u001b[0m\u001b[0;34m\u001b[0m\u001b[0;34m\u001b[0m\u001b[0m\n\u001b[1;32m     23\u001b[0m             \u001b[0mx\u001b[0m \u001b[0;34m=\u001b[0m \u001b[0mx\u001b[0m \u001b[0;34m+\u001b[0m \u001b[0mlen\u001b[0m\u001b[0;34m(\u001b[0m\u001b[0mORF\u001b[0m\u001b[0;34m)\u001b[0m\u001b[0;34m\u001b[0m\u001b[0;34m\u001b[0m\u001b[0m\n",
      "\u001b[0;31mNameError\u001b[0m: name 'rest_of_ORF' is not defined"
     ]
    }
   ],
   "source": [
    "def find_all_ORFs_oneframe(dna):\n",
    "    \"\"\" Finds all non-nested open reading frames in the given DNA\n",
    "        sequence and returns them as a list.  This function should\n",
    "        only find ORFs that are in the default frame of the sequence\n",
    "        (i.e. they start on indices that are multiples of 3).\n",
    "        By non-nested we mean that if an ORF occurs entirely within\n",
    "        another ORF, it should not be included in the returned list of ORFs.\n",
    "        dna: a DNA sequence\n",
    "        returns: a list of non-nested ORFs\n",
    "    >>> find_all_ORFs_oneframe(\"ATGCATGAATGTAGATAGATGTGCCC\")\n",
    "    ['ATGCATGAATGTAGA', 'ATGTGCCC']\n",
    "    >>> find_all_ORFs_oneframe(\"ATGCATGATGAATGTAGATAGATGTGCCC\")\n",
    "    ['ATGCATGATGAATGTAGA', 'ATGTGCCC']\n",
    "    \"\"\"\n",
    "    ORF2 = []\n",
    "    x = 0\n",
    "    StartCodon = 'ATG'\n",
    "    while x <= len(dna):  \n",
    "        i = dna[x:x+3]\n",
    "        if i == StartCodon:\n",
    "            ORF = rest_of_ORF(dna[x:])\n",
    "            ORF2.append(ORF)\n",
    "            x = x + len(ORF)\n",
    "        x = x+3\n",
    "    return ORF2\n",
    "find_all_ORFs_oneframe('ATGCATGATGAATGTAGATAGATGTGCCC')"
   ]
  },
  {
   "cell_type": "code",
   "execution_count": null,
   "metadata": {},
   "outputs": [],
   "source": []
  }
 ],
 "metadata": {
  "kernelspec": {
   "display_name": "Python 3",
   "language": "python",
   "name": "python3"
  },
  "language_info": {
   "codemirror_mode": {
    "name": "ipython",
    "version": 3
   },
   "file_extension": ".py",
   "mimetype": "text/x-python",
   "name": "python",
   "nbconvert_exporter": "python",
   "pygments_lexer": "ipython3",
   "version": "3.8.5"
  }
 },
 "nbformat": 4,
 "nbformat_minor": 4
}
